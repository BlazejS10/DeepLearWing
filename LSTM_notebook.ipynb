{
 "cells": [
  {
   "cell_type": "code",
   "execution_count": null,
   "id": "9dc0f4cb",
   "metadata": {},
   "outputs": [],
   "source": [
    "import torch\n",
    "import torch.nn as nn\n",
    "from torch.nn.utils.rnn import pack_padded_sequence, pad_packed_sequence\n",
    "\n",
    "class AirfoilLSTMRegressor(nn.Module):\n",
    "    def __init__(self, point_dim=2, lstm_hidden_dim=128, num_lstm_layers=2, \n",
    "                 fc_hidden_dim=64, output_dim=3, other_features_dim=2, dropout_prob=0.2):\n",
    "        super(AirfoilLSTMRegressor, self).__init__()\n",
    "        \n",
    "        self.lstm = nn.LSTM(\n",
    "            input_size=point_dim,\n",
    "            hidden_size=lstm_hidden_dim,\n",
    "            num_layers=num_lstm_layers,\n",
    "            batch_first=True,\n",
    "            bidirectional=False\n",
    "        )\n",
    "\n",
    "        self.fc1 = nn.Linear(lstm_hidden_dim + other_features_dim, fc_hidden_dim)\n",
    "        self.relu = nn.ReLU()\n",
    "        self.dropout = nn.Dropout(dropout_prob)\n",
    "        self.fc2 = nn.Linear(fc_hidden_dim, output_dim)\n",
    "\n",
    "    def forward(self, sequence_data, sequence_lengths, other_features):\n",
    "        packed_input = pack_padded_sequence(\n",
    "            sequence_data, \n",
    "            sequence_lengths.cpu(),\n",
    "            batch_first=True, \n",
    "            enforce_sorted=False\n",
    "        )\n",
    "        \n",
    "        packed_lstm_out, (h_n, _) = self.lstm(packed_input)\n",
    "        shape_representation = h_n[-1,:,:]\n",
    "        combined_features = torch.cat((shape_representation, other_features), dim=1)\n",
    "        x = self.fc1(combined_features)\n",
    "        x = self.relu(x)\n",
    "        x = self.dropout(x)\n",
    "        predictions = self.fc2(x)\n",
    "        \n",
    "        return predictions\n"
   ]
  },
  {
   "cell_type": "markdown",
   "id": "04ccec94",
   "metadata": {},
   "source": [
    "#Przykładowe użycie"
   ]
  },
  {
   "cell_type": "code",
   "execution_count": null,
   "id": "9a67d4e0",
   "metadata": {},
   "outputs": [],
   "source": [
    "\n",
    "point_dim = 2                 # (x, y)\n",
    "lstm_hidden_dim = 128\n",
    "num_lstm_layers = 2\n",
    "fc_hidden_dim = 64\n",
    "output_dim = 3                # CL, CD, CM\n",
    "other_features_dim = 2        # Re, AoA\n",
    "\n",
    "model = AirfoilLSTMRegressor(point_dim, lstm_hidden_dim, num_lstm_layers, \n",
    "                             fc_hidden_dim, output_dim, other_features_dim)\n"
   ]
  }
 ],
 "metadata": {
  "language_info": {
   "name": "python"
  }
 },
 "nbformat": 4,
 "nbformat_minor": 5
}
